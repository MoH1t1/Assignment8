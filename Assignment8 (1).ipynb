{
  "metadata": {
    "kernelspec": {
      "name": "python",
      "display_name": "Python (Pyodide)",
      "language": "python"
    },
    "language_info": {
      "codemirror_mode": {
        "name": "python",
        "version": 3
      },
      "file_extension": ".py",
      "mimetype": "text/x-python",
      "name": "python",
      "nbconvert_exporter": "python",
      "pygments_lexer": "ipython3",
      "version": "3.8"
    }
  },
  "nbformat_minor": 4,
  "nbformat": 4,
  "cells": [
    {
      "cell_type": "code",
      "source": "# Q1. What is an Exception in python? Write the difference between Exceptions and Syntax errors.\n\n# An exception in Python is an error that occurs during the execution of a program.\n# Differences: Exceptions occur during program execution due to logical errors, while Syntax Errors occur at compile-time due to incorrect code syntax.\n",
      "metadata": {
        "trusted": true
      },
      "outputs": [],
      "execution_count": 1
    },
    {
      "cell_type": "code",
      "source": "# Q2. What happens when an exception is not handled? Explain with an example.\n\n# When an exception is not handled, the program terminates abruptly, and Python prints a traceback message showing the error type and where it occurred.\n\n# Example:\nnum = int(input(\"Enter a number: \"))  \nprint(f\"The number is: {num}\")",
      "metadata": {
        "trusted": true
      },
      "outputs": [
        {
          "ename": "<class 'TypeError'>",
          "evalue": "int() argument must be a string, a bytes-like object or a real number, not 'PyodideFuture'",
          "traceback": [
            "\u001b[0;31m---------------------------------------------------------------------------\u001b[0m",
            "\u001b[0;31mTypeError\u001b[0m                                 Traceback (most recent call last)",
            "Cell \u001b[0;32mIn[4], line 6\u001b[0m\n\u001b[1;32m      1\u001b[0m \u001b[38;5;66;03m# Q2. What happens when an exception is not handled? Explain with an example.\u001b[39;00m\n\u001b[1;32m      2\u001b[0m \n\u001b[1;32m      3\u001b[0m \u001b[38;5;66;03m# When an exception is not handled, the program terminates abruptly, and Python prints a traceback message showing the error type and where it occurred.\u001b[39;00m\n\u001b[1;32m      4\u001b[0m \n\u001b[1;32m      5\u001b[0m \u001b[38;5;66;03m# Example:\u001b[39;00m\n\u001b[0;32m----> 6\u001b[0m num \u001b[38;5;241m=\u001b[39m \u001b[38;5;28;43mint\u001b[39;49m\u001b[43m(\u001b[49m\u001b[38;5;28;43minput\u001b[39;49m\u001b[43m(\u001b[49m\u001b[38;5;124;43m\"\u001b[39;49m\u001b[38;5;124;43mEnter a number: \u001b[39;49m\u001b[38;5;124;43m\"\u001b[39;49m\u001b[43m)\u001b[49m\u001b[43m)\u001b[49m  \n\u001b[1;32m      7\u001b[0m \u001b[38;5;28mprint\u001b[39m(\u001b[38;5;124mf\u001b[39m\u001b[38;5;124m\"\u001b[39m\u001b[38;5;124mThe number is: \u001b[39m\u001b[38;5;132;01m{\u001b[39;00mnum\u001b[38;5;132;01m}\u001b[39;00m\u001b[38;5;124m\"\u001b[39m)\n",
            "\u001b[0;31mTypeError\u001b[0m: int() argument must be a string, a bytes-like object or a real number, not 'PyodideFuture'"
          ],
          "output_type": "error"
        },
        {
          "output_type": "stream",
          "name": "stdin",
          "text": "Enter a number:  34\n"
        }
      ],
      "execution_count": 4
    },
    {
      "cell_type": "code",
      "source": "# Q3. Which Python statements are used to catch and handle exceptions? Explain with an example.\n\n# Python uses the try, except, and optionally else and finally statements to catch and handle exceptions.\n\ntry:\n    num = int(input(\"Enter a number: \"))\n    print(f\"The number is: {num}\")\nexcept ValueError:\n    print(\"Invalid input! Please enter an integer.\")\n\n",
      "metadata": {
        "trusted": true
      },
      "outputs": [],
      "execution_count": null
    },
    {
      "cell_type": "code",
      "source": "# Q4. Explain with an example: try and else, finall and + raise\n\n# (a) try and else: The else block executes if no exception occurs in the try block.\n\ntry:\n    num = int(input(\"Enter a number: \"))\nexcept ValueError:\n    print(\"Invalid input!\")\nelse:\n    print(f\"The number is: {num}\")\n\n# (b) finally: The finally block executes regardless of whether an exception occurred or not.\n\ntry:\n    num = int(input(\"Enter a number: \"))\nexcept ValueError:\n    print(\"Invalid input!\")\nfinally:\n    print(\"Execution completed.\")\n\n# (c) raise: The raise statement is used to explicitly raise an exception.\n\ndef check_age(age):\n    if age < 18:\n        raise ValueError(\"Age must be 18 or above!\")\n    return \"Valid age\"\n\ntry:\n    print(check_age(16))\nexcept ValueError as e:\n    print(e)\n\n",
      "metadata": {
        "trusted": true
      },
      "outputs": [
        {
          "ename": "<class 'TypeError'>",
          "evalue": "int() argument must be a string, a bytes-like object or a real number, not 'PyodideFuture'",
          "traceback": [
            "\u001b[0;31m---------------------------------------------------------------------------\u001b[0m",
            "\u001b[0;31mTypeError\u001b[0m                                 Traceback (most recent call last)",
            "Cell \u001b[0;32mIn[3], line 6\u001b[0m\n\u001b[1;32m      1\u001b[0m \u001b[38;5;66;03m# Q4. Explain with an example: try and else, finall and + raise\u001b[39;00m\n\u001b[1;32m      2\u001b[0m \n\u001b[1;32m      3\u001b[0m \u001b[38;5;66;03m# (a) try and else: The else block executes if no exception occurs in the try block.\u001b[39;00m\n\u001b[1;32m      5\u001b[0m \u001b[38;5;28;01mtry\u001b[39;00m:\n\u001b[0;32m----> 6\u001b[0m     num \u001b[38;5;241m=\u001b[39m \u001b[38;5;28;43mint\u001b[39;49m\u001b[43m(\u001b[49m\u001b[38;5;28;43minput\u001b[39;49m\u001b[43m(\u001b[49m\u001b[38;5;124;43m\"\u001b[39;49m\u001b[38;5;124;43mEnter a number: \u001b[39;49m\u001b[38;5;124;43m\"\u001b[39;49m\u001b[43m)\u001b[49m\u001b[43m)\u001b[49m\n\u001b[1;32m      7\u001b[0m \u001b[38;5;28;01mexcept\u001b[39;00m \u001b[38;5;167;01mValueError\u001b[39;00m:\n\u001b[1;32m      8\u001b[0m     \u001b[38;5;28mprint\u001b[39m(\u001b[38;5;124m\"\u001b[39m\u001b[38;5;124mInvalid input!\u001b[39m\u001b[38;5;124m\"\u001b[39m)\n",
            "\u001b[0;31mTypeError\u001b[0m: int() argument must be a string, a bytes-like object or a real number, not 'PyodideFuture'"
          ],
          "output_type": "error"
        },
        {
          "output_type": "stream",
          "name": "stdin",
          "text": "Enter a number:  23\n"
        }
      ],
      "execution_count": 3
    },
    {
      "cell_type": "code",
      "source": "# Q5. What are Custom Exceptions in python? Why do we need Custom Exceptions? Explain with an example.\n\n# Custom Exceptions are user-defined exception classes that extend the built-in Exception class. They allow developers to define specific error conditions for their \n# application, making error handling more descriptive and meaningful.\n\nclass AgeError(Exception):\n    \"\"\"Custom exception for invalid age\"\"\"\n    pass\n\ndef check_age(age):\n    if age < 18:\n        raise AgeError(\"Age must be 18 or above!\")\n    return \"Valid age\"\n\ntry:\n    print(check_age(16))\nexcept AgeError as e:\n    print(e)\n",
      "metadata": {
        "trusted": true
      },
      "outputs": [],
      "execution_count": null
    },
    {
      "cell_type": "code",
      "source": "# Q6. Create a custom exception class. Use this class to handle an exception.\n\nclass DivisionError(Exception):\n    \"\"\"Custom exception for division errors\"\"\"\n    pass\n\ndef divide(a, b):\n    if b == 0:\n        raise DivisionError(\"Division by zero is not allowed!\")\n    return a / b\n\ntry:\n    result = divide(10, 0)\n    print(f\"Result: {result}\")\nexcept DivisionError as e:\n    print(e)\n",
      "metadata": {
        "trusted": true
      },
      "outputs": [],
      "execution_count": null
    }
  ]
}